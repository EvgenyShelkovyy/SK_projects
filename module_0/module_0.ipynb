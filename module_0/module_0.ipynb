import numpy as np
number = np.random.randint(1,101)   # guess an integer in the range from 1 to 100


def game_core_v3(number):
    '''Binary search function'''
    count = 1                       # attempt counter
    predict = 50                    # primary selection number 
    min_predict = 1                 # setting the search range, min and max
    max_predict = 101
    
    while predict != number:        # binary matching cycle
        if predict > number: 
            max_predict = predict
        else:
            min_predict = predict
        predict = min_predict + (max_predict - min_predict)//2
        count += 1
        
    return count                    # returning the number of attempts               


def score_game(game_core):
    '''Repeat run function 1000 times for accurate analysis'''
    count_ls = []
    random_array = np.random.randint(1,101, size=(1000))
    np.random.seed(1)              # we fix the RANDOM SEED
    
    for number in random_array:
        count_ls.append(game_core(number))
        
    score = int(np.mean(count_ls))
    print(f"Мой алгоритм угадывает число в среднем за {score} попыток")
    
    return score                     # returning the average number of attempts


print(score_game(game_core_v3))
